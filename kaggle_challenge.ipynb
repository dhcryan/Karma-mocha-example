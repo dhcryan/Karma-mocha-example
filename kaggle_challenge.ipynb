{
  "nbformat": 4,
  "nbformat_minor": 0,
  "metadata": {
    "colab": {
      "provenance": [],
      "authorship_tag": "ABX9TyM99w8zj5uUlsGCUE/Vwk/c",
      "include_colab_link": true
    },
    "kernelspec": {
      "name": "python3",
      "display_name": "Python 3"
    },
    "language_info": {
      "name": "python"
    }
  },
  "cells": [
    {
      "cell_type": "markdown",
      "metadata": {
        "id": "view-in-github",
        "colab_type": "text"
      },
      "source": [
        "<a href=\"https://colab.research.google.com/github/dhcryan/Karma-mocha-example/blob/master/kaggle_challenge.ipynb\" target=\"_parent\"><img src=\"https://colab.research.google.com/assets/colab-badge.svg\" alt=\"Open In Colab\"/></a>"
      ]
    },
    {
      "cell_type": "code",
      "execution_count": null,
      "metadata": {
        "id": "xOYimRxW4Exi"
      },
      "outputs": [],
      "source": [
        "from torchvision import datasets\n",
        "import torchvision.transforms as transforms\n",
        "from sklearn.model_selection import train_test_split\n",
        "import numpy as np\n",
        "import pandas as pd \n",
        "#permute(3,2,1,0)\n"
      ]
    },
    {
      "cell_type": "markdown",
      "source": [
        "CIFAR dataset consists of 60000 32*32 in 100 classes\n"
      ],
      "metadata": {
        "id": "9KRrR8e-lw4Y"
      }
    }
  ]
}